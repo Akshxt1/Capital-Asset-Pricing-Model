{
 "cells": [
  {
   "cell_type": "code",
   "execution_count": 1,
   "id": "67532a2d-7f92-4d4a-9c49-5754f3ff7b42",
   "metadata": {},
   "outputs": [],
   "source": [
    "import pandas as pd\n",
    "import numpy as np\n",
    "import yfinance as yf\n",
    "import matplotlib.pyplot as plt\n",
    "%matplotlib inline"
   ]
  },
  {
   "cell_type": "code",
   "execution_count": 2,
   "id": "fe4656d8-011c-46b5-82ec-89c0d2170f53",
   "metadata": {},
   "outputs": [],
   "source": [
    "# Define Parameters\n",
    "stock_ticker = \"AAPL\"\n",
    "market_ticker = \"^GSPC\"\n",
    "risk_free_rate = 0.03 / 252\n",
    "\n",
    "# Download historical data\n",
    "start_date = '2023-11-01'\n",
    "end_date = '2024-11-01'"
   ]
  },
  {
   "cell_type": "code",
   "execution_count": 3,
   "id": "e2694d06-b070-4d46-9409-e5bad8b2e845",
   "metadata": {},
   "outputs": [
    {
     "name": "stderr",
     "output_type": "stream",
     "text": [
      "[*********************100%***********************]  1 of 1 completed\n",
      "[*********************100%***********************]  1 of 1 completed\n"
     ]
    }
   ],
   "source": [
    "stock_data = yf.download(stock_ticker, start= start_date, end= end_date)\n",
    "market_data = yf.download(market_ticker, start= start_date, end= end_date)"
   ]
  },
  {
   "cell_type": "code",
   "execution_count": 4,
   "id": "323fc31b-4b46-4c28-b99d-375e996f39bc",
   "metadata": {},
   "outputs": [],
   "source": [
    "# Calculate daily returns\n",
    "stock_data['Returns'] = stock_data['Adj Close'].pct_change()\n",
    "market_data['Returns'] = market_data['Adj Close'].pct_change()"
   ]
  },
  {
   "cell_type": "code",
   "execution_count": 5,
   "id": "205eb4e9-8555-48c1-b311-6928be5175ce",
   "metadata": {},
   "outputs": [
    {
     "data": {
      "text/html": [
       "<div>\n",
       "<style scoped>\n",
       "    .dataframe tbody tr th:only-of-type {\n",
       "        vertical-align: middle;\n",
       "    }\n",
       "\n",
       "    .dataframe tbody tr th {\n",
       "        vertical-align: top;\n",
       "    }\n",
       "\n",
       "    .dataframe thead th {\n",
       "        text-align: right;\n",
       "    }\n",
       "</style>\n",
       "<table border=\"1\" class=\"dataframe\">\n",
       "  <thead>\n",
       "    <tr style=\"text-align: right;\">\n",
       "      <th></th>\n",
       "      <th>Open</th>\n",
       "      <th>High</th>\n",
       "      <th>Low</th>\n",
       "      <th>Close</th>\n",
       "      <th>Adj Close</th>\n",
       "      <th>Volume</th>\n",
       "      <th>Returns</th>\n",
       "    </tr>\n",
       "    <tr>\n",
       "      <th>Date</th>\n",
       "      <th></th>\n",
       "      <th></th>\n",
       "      <th></th>\n",
       "      <th></th>\n",
       "      <th></th>\n",
       "      <th></th>\n",
       "      <th></th>\n",
       "    </tr>\n",
       "  </thead>\n",
       "  <tbody>\n",
       "    <tr>\n",
       "      <th>2023-11-01</th>\n",
       "      <td>171.000000</td>\n",
       "      <td>174.229996</td>\n",
       "      <td>170.119995</td>\n",
       "      <td>173.970001</td>\n",
       "      <td>172.894089</td>\n",
       "      <td>56934900</td>\n",
       "      <td>NaN</td>\n",
       "    </tr>\n",
       "    <tr>\n",
       "      <th>2023-11-02</th>\n",
       "      <td>175.520004</td>\n",
       "      <td>177.779999</td>\n",
       "      <td>175.460007</td>\n",
       "      <td>177.570007</td>\n",
       "      <td>176.471832</td>\n",
       "      <td>77334800</td>\n",
       "      <td>0.020693</td>\n",
       "    </tr>\n",
       "    <tr>\n",
       "      <th>2023-11-03</th>\n",
       "      <td>174.240005</td>\n",
       "      <td>176.820007</td>\n",
       "      <td>173.350006</td>\n",
       "      <td>176.649994</td>\n",
       "      <td>175.557495</td>\n",
       "      <td>79763700</td>\n",
       "      <td>-0.005181</td>\n",
       "    </tr>\n",
       "    <tr>\n",
       "      <th>2023-11-06</th>\n",
       "      <td>176.380005</td>\n",
       "      <td>179.429993</td>\n",
       "      <td>176.210007</td>\n",
       "      <td>179.229996</td>\n",
       "      <td>178.121552</td>\n",
       "      <td>63841300</td>\n",
       "      <td>0.014605</td>\n",
       "    </tr>\n",
       "    <tr>\n",
       "      <th>2023-11-07</th>\n",
       "      <td>179.179993</td>\n",
       "      <td>182.440002</td>\n",
       "      <td>178.970001</td>\n",
       "      <td>181.820007</td>\n",
       "      <td>180.695557</td>\n",
       "      <td>70530000</td>\n",
       "      <td>0.014451</td>\n",
       "    </tr>\n",
       "  </tbody>\n",
       "</table>\n",
       "</div>"
      ],
      "text/plain": [
       "                  Open        High         Low       Close   Adj Close  \\\n",
       "Date                                                                     \n",
       "2023-11-01  171.000000  174.229996  170.119995  173.970001  172.894089   \n",
       "2023-11-02  175.520004  177.779999  175.460007  177.570007  176.471832   \n",
       "2023-11-03  174.240005  176.820007  173.350006  176.649994  175.557495   \n",
       "2023-11-06  176.380005  179.429993  176.210007  179.229996  178.121552   \n",
       "2023-11-07  179.179993  182.440002  178.970001  181.820007  180.695557   \n",
       "\n",
       "              Volume   Returns  \n",
       "Date                            \n",
       "2023-11-01  56934900       NaN  \n",
       "2023-11-02  77334800  0.020693  \n",
       "2023-11-03  79763700 -0.005181  \n",
       "2023-11-06  63841300  0.014605  \n",
       "2023-11-07  70530000  0.014451  "
      ]
     },
     "execution_count": 5,
     "metadata": {},
     "output_type": "execute_result"
    }
   ],
   "source": [
    "stock_data.head()"
   ]
  },
  {
   "cell_type": "code",
   "execution_count": 6,
   "id": "fe04a58c-c7c5-4961-b010-d67ae593e1d4",
   "metadata": {},
   "outputs": [],
   "source": [
    "# Drop NA values in returns\n",
    "returns_df = pd.DataFrame({\n",
    "    'Stock': stock_data['Returns'],\n",
    "    'Market': market_data['Returns']\n",
    "}).dropna()"
   ]
  },
  {
   "cell_type": "code",
   "execution_count": 7,
   "id": "71568aef-fc6e-4027-8dec-ee8ba97938e0",
   "metadata": {},
   "outputs": [
    {
     "name": "stdout",
     "output_type": "stream",
     "text": [
      "Beta: 1.0377834696214572\n"
     ]
    }
   ],
   "source": [
    "# Calculate beta\n",
    "covariance = np.cov(returns_df['Stock'], returns_df['Market'])[0, 1] # indicates the level to which two variables vary together\n",
    "\n",
    "variance_market = np.var(returns_df['Market']) # variance of index\n",
    "\n",
    "beta = covariance / variance_market\n",
    "print(f\"Beta: {beta}\")"
   ]
  },
  {
   "cell_type": "markdown",
   "id": "de7c7d1c-c955-409d-8b7c-d26186f8799f",
   "metadata": {},
   "source": [
    "##### if Beta > 1 : Agressive Stock\n",
    "#####   Beta < 1 : Conservative Stock\n",
    "#####    Beta = 1 : Moderate Stock"
   ]
  },
  {
   "cell_type": "code",
   "execution_count": 8,
   "id": "66cd3461-1d25-449c-b6cf-cef36f40fe9f",
   "metadata": {},
   "outputs": [
    {
     "name": "stdout",
     "output_type": "stream",
     "text": [
      "Expected Return: 31.66%\n"
     ]
    }
   ],
   "source": [
    "# Calculate expected return using CAPM\n",
    "market_return = market_data['Returns'].mean() * 252 # Annualised market return\n",
    "expected_return = risk_free_rate * 252 + beta * (market_return - risk_free_rate * 252)\n",
    "print(f\"Expected Return: {expected_return * 100:.2f}%\")"
   ]
  },
  {
   "cell_type": "code",
   "execution_count": null,
   "id": "c8e9bff6-b96e-4a12-aa28-2a69f05aa3e6",
   "metadata": {},
   "outputs": [],
   "source": []
  }
 ],
 "metadata": {
  "kernelspec": {
   "display_name": "Python 3 (ipykernel)",
   "language": "python",
   "name": "python3"
  },
  "language_info": {
   "codemirror_mode": {
    "name": "ipython",
    "version": 3
   },
   "file_extension": ".py",
   "mimetype": "text/x-python",
   "name": "python",
   "nbconvert_exporter": "python",
   "pygments_lexer": "ipython3",
   "version": "3.12.4"
  }
 },
 "nbformat": 4,
 "nbformat_minor": 5
}
